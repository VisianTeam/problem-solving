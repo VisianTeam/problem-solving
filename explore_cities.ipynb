{
 "cells": [
  {
   "cell_type": "code",
   "execution_count": 2,
   "outputs": [
    {
     "data": {
      "text/plain": "           City Province/State        Country North-South East-West  \\\n0          Adak         Alaska  United States    Northern   Western   \n1      Honolulu         Hawaii  United States    Northern   Western   \n2        Barrow         Alaska  United States    Northern   Western   \n3          Hilo         Hawaii  United States    Northern   Western   \n4     Anchorage         Alaska  United States    Northern   Western   \n..          ...            ...            ...         ...       ...   \n945    Hastings            NaN    New Zealand    Southern   Eastern   \n946        Suva            NaN           Fiji    Southern   Eastern   \n947    Funafuti            NaN         Tuvalu    Southern   Eastern   \n948      Labasa            NaN           Fiji    Southern   Eastern   \n949  Nukulaelae            NaN         Tuvalu    Southern   Eastern   \n\n          Coordinates  Near Latitude  Near Longitude  \n0    51°53′N 176°39′W             50            -175  \n1    21°19′N 157°50′W             20            -160  \n2    71°18′N 156°46′W             70            -155  \n3    19°42′N 155°05′W             20            -155  \n4    61°13′N 149°54′W             60            -150  \n..                ...            ...             ...  \n945  39°39′S 176°50′E            -40             175  \n946  18°08′S 178°27′E            -20             180  \n947   8°31′S 179°13′E            -10             180  \n948  16°26′S 179°22′E            -15             180  \n949   9°23′S 179°51′E            -10             180  \n\n[950 rows x 8 columns]",
      "text/html": "<div>\n<style scoped>\n    .dataframe tbody tr th:only-of-type {\n        vertical-align: middle;\n    }\n\n    .dataframe tbody tr th {\n        vertical-align: top;\n    }\n\n    .dataframe thead th {\n        text-align: right;\n    }\n</style>\n<table border=\"1\" class=\"dataframe\">\n  <thead>\n    <tr style=\"text-align: right;\">\n      <th></th>\n      <th>City</th>\n      <th>Province/State</th>\n      <th>Country</th>\n      <th>North-South</th>\n      <th>East-West</th>\n      <th>Coordinates</th>\n      <th>Near Latitude</th>\n      <th>Near Longitude</th>\n    </tr>\n  </thead>\n  <tbody>\n    <tr>\n      <th>0</th>\n      <td>Adak</td>\n      <td>Alaska</td>\n      <td>United States</td>\n      <td>Northern</td>\n      <td>Western</td>\n      <td>51°53′N 176°39′W</td>\n      <td>50</td>\n      <td>-175</td>\n    </tr>\n    <tr>\n      <th>1</th>\n      <td>Honolulu</td>\n      <td>Hawaii</td>\n      <td>United States</td>\n      <td>Northern</td>\n      <td>Western</td>\n      <td>21°19′N 157°50′W</td>\n      <td>20</td>\n      <td>-160</td>\n    </tr>\n    <tr>\n      <th>2</th>\n      <td>Barrow</td>\n      <td>Alaska</td>\n      <td>United States</td>\n      <td>Northern</td>\n      <td>Western</td>\n      <td>71°18′N 156°46′W</td>\n      <td>70</td>\n      <td>-155</td>\n    </tr>\n    <tr>\n      <th>3</th>\n      <td>Hilo</td>\n      <td>Hawaii</td>\n      <td>United States</td>\n      <td>Northern</td>\n      <td>Western</td>\n      <td>19°42′N 155°05′W</td>\n      <td>20</td>\n      <td>-155</td>\n    </tr>\n    <tr>\n      <th>4</th>\n      <td>Anchorage</td>\n      <td>Alaska</td>\n      <td>United States</td>\n      <td>Northern</td>\n      <td>Western</td>\n      <td>61°13′N 149°54′W</td>\n      <td>60</td>\n      <td>-150</td>\n    </tr>\n    <tr>\n      <th>...</th>\n      <td>...</td>\n      <td>...</td>\n      <td>...</td>\n      <td>...</td>\n      <td>...</td>\n      <td>...</td>\n      <td>...</td>\n      <td>...</td>\n    </tr>\n    <tr>\n      <th>945</th>\n      <td>Hastings</td>\n      <td>NaN</td>\n      <td>New Zealand</td>\n      <td>Southern</td>\n      <td>Eastern</td>\n      <td>39°39′S 176°50′E</td>\n      <td>-40</td>\n      <td>175</td>\n    </tr>\n    <tr>\n      <th>946</th>\n      <td>Suva</td>\n      <td>NaN</td>\n      <td>Fiji</td>\n      <td>Southern</td>\n      <td>Eastern</td>\n      <td>18°08′S 178°27′E</td>\n      <td>-20</td>\n      <td>180</td>\n    </tr>\n    <tr>\n      <th>947</th>\n      <td>Funafuti</td>\n      <td>NaN</td>\n      <td>Tuvalu</td>\n      <td>Southern</td>\n      <td>Eastern</td>\n      <td>8°31′S 179°13′E</td>\n      <td>-10</td>\n      <td>180</td>\n    </tr>\n    <tr>\n      <th>948</th>\n      <td>Labasa</td>\n      <td>NaN</td>\n      <td>Fiji</td>\n      <td>Southern</td>\n      <td>Eastern</td>\n      <td>16°26′S 179°22′E</td>\n      <td>-15</td>\n      <td>180</td>\n    </tr>\n    <tr>\n      <th>949</th>\n      <td>Nukulaelae</td>\n      <td>NaN</td>\n      <td>Tuvalu</td>\n      <td>Southern</td>\n      <td>Eastern</td>\n      <td>9°23′S 179°51′E</td>\n      <td>-10</td>\n      <td>180</td>\n    </tr>\n  </tbody>\n</table>\n<p>950 rows × 8 columns</p>\n</div>"
     },
     "execution_count": 2,
     "metadata": {},
     "output_type": "execute_result"
    }
   ],
   "source": [
    "import pandas as pd\n",
    "\n",
    "path = \"data/cities.csv\"\n",
    "\n",
    "cities_df = pd.read_csv(path)\n",
    "cities_df"
   ],
   "metadata": {
    "collapsed": false,
    "pycharm": {
     "name": "#%%\n"
    }
   }
  },
  {
   "cell_type": "code",
   "execution_count": 6,
   "outputs": [
    {
     "data": {
      "text/plain": "            city            x            y\n0  San Francisco -2440.234574 -4226.610264\n1    Los Angeles -2609.408837 -4519.628684\n2  Oklahoma City  -906.238179 -5139.532107\n3         Dallas  -454.849931 -5198.958497\n4        Detroit   425.360913 -4861.897489\n5          Miami  1002.659670 -5686.365557\n6  New York City  1263.158364 -4714.171194",
      "text/html": "<div>\n<style scoped>\n    .dataframe tbody tr th:only-of-type {\n        vertical-align: middle;\n    }\n\n    .dataframe tbody tr th {\n        vertical-align: top;\n    }\n\n    .dataframe thead th {\n        text-align: right;\n    }\n</style>\n<table border=\"1\" class=\"dataframe\">\n  <thead>\n    <tr style=\"text-align: right;\">\n      <th></th>\n      <th>city</th>\n      <th>x</th>\n      <th>y</th>\n    </tr>\n  </thead>\n  <tbody>\n    <tr>\n      <th>0</th>\n      <td>San Francisco</td>\n      <td>-2440.234574</td>\n      <td>-4226.610264</td>\n    </tr>\n    <tr>\n      <th>1</th>\n      <td>Los Angeles</td>\n      <td>-2609.408837</td>\n      <td>-4519.628684</td>\n    </tr>\n    <tr>\n      <th>2</th>\n      <td>Oklahoma City</td>\n      <td>-906.238179</td>\n      <td>-5139.532107</td>\n    </tr>\n    <tr>\n      <th>3</th>\n      <td>Dallas</td>\n      <td>-454.849931</td>\n      <td>-5198.958497</td>\n    </tr>\n    <tr>\n      <th>4</th>\n      <td>Detroit</td>\n      <td>425.360913</td>\n      <td>-4861.897489</td>\n    </tr>\n    <tr>\n      <th>5</th>\n      <td>Miami</td>\n      <td>1002.659670</td>\n      <td>-5686.365557</td>\n    </tr>\n    <tr>\n      <th>6</th>\n      <td>New York City</td>\n      <td>1263.158364</td>\n      <td>-4714.171194</td>\n    </tr>\n  </tbody>\n</table>\n</div>"
     },
     "execution_count": 6,
     "metadata": {},
     "output_type": "execute_result"
    }
   ],
   "source": [
    "import numpy as np\n",
    "from typing import List, Optional, Tuple\n",
    "\n",
    "\n",
    "def filter_cities(df: pd.DataFrame, names: List[str]) -> pd.DataFrame:\n",
    "    return df[df[\"City\"].isin(names)]\n",
    "\n",
    "def get_coordinates(\n",
    "        df: pd.DataFrame,\n",
    "        names: Optional[List[str]] = None,\n",
    ") -> pd.DataFrame:\n",
    "    if names:\n",
    "        df = filter_cities(df, names)\n",
    "\n",
    "    lat = df[\"Near Latitude\"].values * np.pi/180\n",
    "    lon = df[\"Near Longitude\"].values * np.pi/180\n",
    "\n",
    "    earth_radius = 6371\n",
    "    return pd.DataFrame({\n",
    "        \"city\": df[\"City\"].values,\n",
    "        \"x\": earth_radius*np.cos(lat)*np.cos(lon),\n",
    "        \"y\": earth_radius*np.cos(lat)*np.sin(lon),\n",
    "    })\n",
    "\n",
    "\n",
    "coordinates_df = get_coordinates(cities_df, [\n",
    "    \"Dallas\",\n",
    "    \"Detroit\",\n",
    "    \"Los Angeles\",\n",
    "    \"Miami\",\n",
    "    \"New York City\",\n",
    "    \"Oklahoma City\",\n",
    "    \"San Francisco\",\n",
    "])\n",
    "coordinates_df"
   ],
   "metadata": {
    "collapsed": false,
    "pycharm": {
     "name": "#%%\n"
    }
   }
  },
  {
   "cell_type": "markdown",
   "source": [],
   "metadata": {
    "collapsed": false,
    "pycharm": {
     "name": "#%% md\n"
    }
   }
  },
  {
   "cell_type": "code",
   "execution_count": 8,
   "outputs": [
    {
     "data": {
      "text/plain": "<Figure size 432x288 with 1 Axes>",
      "image/png": "[encoded data removed]"
     },
     "metadata": {
      "needs_background": "light"
     },
     "output_type": "display_data"
    }
   ],
   "source": [
    "from matplotlib import pyplot as plt\n",
    "\n",
    "X = coordinates_df[\"x\"]\n",
    "Y = coordinates_df[\"y\"]\n",
    "T = coordinates_df[\"city\"]\n",
    "\n",
    "fix, ax = plt.subplots()\n",
    "ax.scatter(X, Y)\n",
    "for x, y, t in zip(X, Y, T):\n",
    "    ax.annotate(t, (x, y))"
   ],
   "metadata": {
    "collapsed": false,
    "pycharm": {
     "name": "#%%\n"
    }
   }
  }
 ],
 "metadata": {
  "kernelspec": {
   "display_name": "Python 3",
   "language": "python",
   "name": "python3"
  },
  "language_info": {
   "codemirror_mode": {
    "name": "ipython",
    "version": 2
   },
   "file_extension": ".py",
   "mimetype": "text/x-python",
   "name": "python",
   "nbconvert_exporter": "python",
   "pygments_lexer": "ipython2",
   "version": "2.7.6"
  }
 },
 "nbformat": 4,
 "nbformat_minor": 0
}